{
  "nbformat": 4,
  "nbformat_minor": 0,
  "metadata": {
    "colab": {
      "provenance": [],
      "authorship_tag": "ABX9TyN5+9DqDhjSxuPc8TrpAR87",
      "include_colab_link": true
    },
    "kernelspec": {
      "name": "python3",
      "display_name": "Python 3"
    },
    "language_info": {
      "name": "python"
    }
  },
  "cells": [
    {
      "cell_type": "markdown",
      "metadata": {
        "id": "view-in-github",
        "colab_type": "text"
      },
      "source": [
        "<a href=\"https://colab.research.google.com/github/2303A52174/AIML_2303A52174/blob/main/Lab1_AIML.ipynb\" target=\"_parent\"><img src=\"https://colab.research.google.com/assets/colab-badge.svg\" alt=\"Open In Colab\"/></a>"
      ]
    },
    {
      "cell_type": "code",
      "execution_count": null,
      "metadata": {
        "id": "yYMwmaH3Z1dq"
      },
      "outputs": [],
      "source": []
    },
    {
      "cell_type": "markdown",
      "source": [
        "Part 1 – Implement Basic Data Structures using Numpy, Pandas\n",
        "1. Lists\n",
        "2. Arrays\n",
        "3. Identify their type using type()\n",
        "4. Perform mathematical operations on these datasets created - multiplication, division,\n",
        "poweroff\n",
        "5. Combine text with Numpy fuction to generate a textual output - ”Addition of Two:\n",
        "array1 +array 2\n",
        "6. Implement np.sin(), log(), log2(), np.exp())"
      ],
      "metadata": {
        "id": "pyCwuSNIZ8bO"
      }
    },
    {
      "cell_type": "code",
      "source": [
        "import numpy as np\n",
        "list=[1,2,3]\n",
        "array1=np.array(list)\n",
        "array1"
      ],
      "metadata": {
        "colab": {
          "base_uri": "https://localhost:8080/"
        },
        "id": "dYuVRb2JaAcX",
        "outputId": "b87b10c2-9525-4833-b3b2-43ef0b692dba"
      },
      "execution_count": 1,
      "outputs": [
        {
          "output_type": "execute_result",
          "data": {
            "text/plain": [
              "array([1, 2, 3])"
            ]
          },
          "metadata": {},
          "execution_count": 1
        }
      ]
    },
    {
      "cell_type": "code",
      "source": [
        "list2=[4,5,6]\n",
        "array2=np.array(list2)\n",
        "array2"
      ],
      "metadata": {
        "colab": {
          "base_uri": "https://localhost:8080/"
        },
        "id": "xxBXaiWxcZvk",
        "outputId": "cc7083b3-64ef-4fe1-ff10-5f3ba64b8cd2"
      },
      "execution_count": 7,
      "outputs": [
        {
          "output_type": "execute_result",
          "data": {
            "text/plain": [
              "array([4, 5, 6])"
            ]
          },
          "metadata": {},
          "execution_count": 7
        }
      ]
    },
    {
      "cell_type": "markdown",
      "source": [
        "Identify their type using type()"
      ],
      "metadata": {
        "id": "dgtqEr0tawOk"
      }
    },
    {
      "cell_type": "code",
      "source": [
        "type(list)"
      ],
      "metadata": {
        "colab": {
          "base_uri": "https://localhost:8080/"
        },
        "id": "JdW97Z5_ab7F",
        "outputId": "64eacaa4-3c29-4e5d-bf56-b5f2125c1022"
      },
      "execution_count": 2,
      "outputs": [
        {
          "output_type": "execute_result",
          "data": {
            "text/plain": [
              "list"
            ]
          },
          "metadata": {},
          "execution_count": 2
        }
      ]
    },
    {
      "cell_type": "code",
      "source": [
        "type(array1)"
      ],
      "metadata": {
        "colab": {
          "base_uri": "https://localhost:8080/"
        },
        "id": "gAdQg2yXaljV",
        "outputId": "63c99e3e-1b12-40ef-8d52-07cf4242bd08"
      },
      "execution_count": 3,
      "outputs": [
        {
          "output_type": "execute_result",
          "data": {
            "text/plain": [
              "numpy.ndarray"
            ]
          },
          "metadata": {},
          "execution_count": 3
        }
      ]
    },
    {
      "cell_type": "markdown",
      "source": [
        "Perform mathematical operations on these datasets created - multiplication, division,\n",
        "powerof"
      ],
      "metadata": {
        "id": "LPmKgwHWbMrU"
      }
    },
    {
      "cell_type": "code",
      "source": [
        "print(\"array2 multiplied by array1: \",array1*array2)\n",
        "print(\"array2 divided by array1: \",array2/array1)\n",
        "print(\"array2 raised to the power of array1: \",array2**array1)"
      ],
      "metadata": {
        "colab": {
          "base_uri": "https://localhost:8080/"
        },
        "id": "JP1Hrtsobi7F",
        "outputId": "0ca76eff-db3f-44b7-f31e-4a933b7fb54c"
      },
      "execution_count": 8,
      "outputs": [
        {
          "output_type": "stream",
          "name": "stdout",
          "text": [
            "array2 multiplied by array1:  [ 4 10 18]\n",
            "array2 divided by array1:  [4.  2.5 2. ]\n",
            "array2 raised to the power of array1:  [  4  25 216]\n"
          ]
        }
      ]
    },
    {
      "cell_type": "markdown",
      "source": [
        "Implement np.sin(), log(), log2(), np.exp())"
      ],
      "metadata": {
        "id": "5rTcPiZrc42s"
      }
    },
    {
      "cell_type": "code",
      "source": [
        "# sine function\n",
        "print(\"Sine: \",np.sin(array1))\n",
        "# logarithm\n",
        "print(\"Natural logarithm: \",np.log(array1))\n",
        "print(\"Base-10 logarithm: \",np.log10(array1))\n",
        "print(\"Base-2 logarithm: \",np.log2(array1))\n",
        "# Exponential\n",
        "print(\"Exponential: \",np.exp(array1))"
      ],
      "metadata": {
        "colab": {
          "base_uri": "https://localhost:8080/"
        },
        "id": "WwWtd35Ac5-j",
        "outputId": "702c1fb0-734d-44ee-ea71-49cab86020c3"
      },
      "execution_count": 9,
      "outputs": [
        {
          "output_type": "stream",
          "name": "stdout",
          "text": [
            "Sine:  [0.84147098 0.90929743 0.14112001]\n",
            "Natural logarithm:  [0.         0.69314718 1.09861229]\n",
            "Base-10 logarithm:  [0.         0.30103    0.47712125]\n",
            "Base-2 logarithm:  [0.        1.        1.5849625]\n",
            "Exponential:  [ 2.71828183  7.3890561  20.08553692]\n"
          ]
        }
      ]
    },
    {
      "cell_type": "markdown",
      "source": [
        "Combine text with Numpy fuction to generate a textual output - ”Addition of Two:\n",
        "array1 +array 2"
      ],
      "metadata": {
        "id": "KOO4ppY-dXSr"
      }
    },
    {
      "cell_type": "code",
      "source": [
        "print(\"Adding two numpy arrays {array1} and {array2} together:\",array1+array2)"
      ],
      "metadata": {
        "colab": {
          "base_uri": "https://localhost:8080/"
        },
        "id": "pAkd19Jddx6L",
        "outputId": "4f0cd59c-4698-4851-daef-7551c193eaff"
      },
      "execution_count": 10,
      "outputs": [
        {
          "output_type": "stream",
          "name": "stdout",
          "text": [
            "Adding two numpy arrays {array1} and {array2} together: [5 7 9]\n"
          ]
        }
      ]
    },
    {
      "cell_type": "code",
      "source": [
        "print(f\"Adding two numpy arrays {array1} and {array2} together: {array1+array2}\")"
      ],
      "metadata": {
        "colab": {
          "base_uri": "https://localhost:8080/"
        },
        "id": "YqFULLWDeTTT",
        "outputId": "7dde79d2-3cb2-4931-f4de-20875e5b126a"
      },
      "execution_count": 11,
      "outputs": [
        {
          "output_type": "stream",
          "name": "stdout",
          "text": [
            "Adding two numpy arrays [1 2 3] and [4 5 6] together: [5 7 9]\n"
          ]
        }
      ]
    }
  ]
}